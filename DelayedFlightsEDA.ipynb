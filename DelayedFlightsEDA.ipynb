{
 "cells": [
  {
   "cell_type": "code",
   "execution_count": 1,
   "id": "d04e6e41",
   "metadata": {},
   "outputs": [],
   "source": [
    "import pandas as pd\n",
    "import numpy as np \n",
    "import matplotlib.pyplot as plt\n",
    "import seaborn as sns\n",
    "import datetime as dt\n",
    "%matplotlib inline "
   ]
  },
  {
   "cell_type": "markdown",
   "id": "a45da8f4",
   "metadata": {},
   "source": [
    "# Preparing and Understanding the data"
   ]
  },
  {
   "cell_type": "code",
   "execution_count": 52,
   "id": "8ca49024",
   "metadata": {
    "scrolled": true
   },
   "outputs": [
    {
     "data": {
      "text/html": [
       "<div>\n",
       "<style scoped>\n",
       "    .dataframe tbody tr th:only-of-type {\n",
       "        vertical-align: middle;\n",
       "    }\n",
       "\n",
       "    .dataframe tbody tr th {\n",
       "        vertical-align: top;\n",
       "    }\n",
       "\n",
       "    .dataframe thead th {\n",
       "        text-align: right;\n",
       "    }\n",
       "</style>\n",
       "<table border=\"1\" class=\"dataframe\">\n",
       "  <thead>\n",
       "    <tr style=\"text-align: right;\">\n",
       "      <th></th>\n",
       "      <th>Unnamed: 0</th>\n",
       "      <th>Year</th>\n",
       "      <th>Month</th>\n",
       "      <th>DayofMonth</th>\n",
       "      <th>DayOfWeek</th>\n",
       "      <th>DepTime</th>\n",
       "      <th>CRSDepTime</th>\n",
       "      <th>ArrTime</th>\n",
       "      <th>CRSArrTime</th>\n",
       "      <th>UniqueCarrier</th>\n",
       "      <th>...</th>\n",
       "      <th>TaxiIn</th>\n",
       "      <th>TaxiOut</th>\n",
       "      <th>Cancelled</th>\n",
       "      <th>CancellationCode</th>\n",
       "      <th>Diverted</th>\n",
       "      <th>CarrierDelay</th>\n",
       "      <th>WeatherDelay</th>\n",
       "      <th>NASDelay</th>\n",
       "      <th>SecurityDelay</th>\n",
       "      <th>LateAircraftDelay</th>\n",
       "    </tr>\n",
       "  </thead>\n",
       "  <tbody>\n",
       "    <tr>\n",
       "      <th>0</th>\n",
       "      <td>0</td>\n",
       "      <td>2008</td>\n",
       "      <td>1</td>\n",
       "      <td>3</td>\n",
       "      <td>4</td>\n",
       "      <td>2003.0</td>\n",
       "      <td>1955</td>\n",
       "      <td>2211.0</td>\n",
       "      <td>2225</td>\n",
       "      <td>WN</td>\n",
       "      <td>...</td>\n",
       "      <td>4.0</td>\n",
       "      <td>8.0</td>\n",
       "      <td>0</td>\n",
       "      <td>N</td>\n",
       "      <td>0</td>\n",
       "      <td>NaN</td>\n",
       "      <td>NaN</td>\n",
       "      <td>NaN</td>\n",
       "      <td>NaN</td>\n",
       "      <td>NaN</td>\n",
       "    </tr>\n",
       "    <tr>\n",
       "      <th>1</th>\n",
       "      <td>1</td>\n",
       "      <td>2008</td>\n",
       "      <td>1</td>\n",
       "      <td>3</td>\n",
       "      <td>4</td>\n",
       "      <td>754.0</td>\n",
       "      <td>735</td>\n",
       "      <td>1002.0</td>\n",
       "      <td>1000</td>\n",
       "      <td>WN</td>\n",
       "      <td>...</td>\n",
       "      <td>5.0</td>\n",
       "      <td>10.0</td>\n",
       "      <td>0</td>\n",
       "      <td>N</td>\n",
       "      <td>0</td>\n",
       "      <td>NaN</td>\n",
       "      <td>NaN</td>\n",
       "      <td>NaN</td>\n",
       "      <td>NaN</td>\n",
       "      <td>NaN</td>\n",
       "    </tr>\n",
       "    <tr>\n",
       "      <th>2</th>\n",
       "      <td>2</td>\n",
       "      <td>2008</td>\n",
       "      <td>1</td>\n",
       "      <td>3</td>\n",
       "      <td>4</td>\n",
       "      <td>628.0</td>\n",
       "      <td>620</td>\n",
       "      <td>804.0</td>\n",
       "      <td>750</td>\n",
       "      <td>WN</td>\n",
       "      <td>...</td>\n",
       "      <td>3.0</td>\n",
       "      <td>17.0</td>\n",
       "      <td>0</td>\n",
       "      <td>N</td>\n",
       "      <td>0</td>\n",
       "      <td>NaN</td>\n",
       "      <td>NaN</td>\n",
       "      <td>NaN</td>\n",
       "      <td>NaN</td>\n",
       "      <td>NaN</td>\n",
       "    </tr>\n",
       "    <tr>\n",
       "      <th>3</th>\n",
       "      <td>4</td>\n",
       "      <td>2008</td>\n",
       "      <td>1</td>\n",
       "      <td>3</td>\n",
       "      <td>4</td>\n",
       "      <td>1829.0</td>\n",
       "      <td>1755</td>\n",
       "      <td>1959.0</td>\n",
       "      <td>1925</td>\n",
       "      <td>WN</td>\n",
       "      <td>...</td>\n",
       "      <td>3.0</td>\n",
       "      <td>10.0</td>\n",
       "      <td>0</td>\n",
       "      <td>N</td>\n",
       "      <td>0</td>\n",
       "      <td>2.0</td>\n",
       "      <td>0.0</td>\n",
       "      <td>0.0</td>\n",
       "      <td>0.0</td>\n",
       "      <td>32.0</td>\n",
       "    </tr>\n",
       "    <tr>\n",
       "      <th>4</th>\n",
       "      <td>5</td>\n",
       "      <td>2008</td>\n",
       "      <td>1</td>\n",
       "      <td>3</td>\n",
       "      <td>4</td>\n",
       "      <td>1940.0</td>\n",
       "      <td>1915</td>\n",
       "      <td>2121.0</td>\n",
       "      <td>2110</td>\n",
       "      <td>WN</td>\n",
       "      <td>...</td>\n",
       "      <td>4.0</td>\n",
       "      <td>10.0</td>\n",
       "      <td>0</td>\n",
       "      <td>N</td>\n",
       "      <td>0</td>\n",
       "      <td>NaN</td>\n",
       "      <td>NaN</td>\n",
       "      <td>NaN</td>\n",
       "      <td>NaN</td>\n",
       "      <td>NaN</td>\n",
       "    </tr>\n",
       "  </tbody>\n",
       "</table>\n",
       "<p>5 rows × 30 columns</p>\n",
       "</div>"
      ],
      "text/plain": [
       "   Unnamed: 0  Year  Month  DayofMonth  DayOfWeek  DepTime  CRSDepTime  \\\n",
       "0           0  2008      1           3          4   2003.0        1955   \n",
       "1           1  2008      1           3          4    754.0         735   \n",
       "2           2  2008      1           3          4    628.0         620   \n",
       "3           4  2008      1           3          4   1829.0        1755   \n",
       "4           5  2008      1           3          4   1940.0        1915   \n",
       "\n",
       "   ArrTime  CRSArrTime UniqueCarrier  ...  TaxiIn TaxiOut  Cancelled  \\\n",
       "0   2211.0        2225            WN  ...     4.0     8.0          0   \n",
       "1   1002.0        1000            WN  ...     5.0    10.0          0   \n",
       "2    804.0         750            WN  ...     3.0    17.0          0   \n",
       "3   1959.0        1925            WN  ...     3.0    10.0          0   \n",
       "4   2121.0        2110            WN  ...     4.0    10.0          0   \n",
       "\n",
       "   CancellationCode  Diverted  CarrierDelay  WeatherDelay NASDelay  \\\n",
       "0                 N         0           NaN           NaN      NaN   \n",
       "1                 N         0           NaN           NaN      NaN   \n",
       "2                 N         0           NaN           NaN      NaN   \n",
       "3                 N         0           2.0           0.0      0.0   \n",
       "4                 N         0           NaN           NaN      NaN   \n",
       "\n",
       "  SecurityDelay  LateAircraftDelay  \n",
       "0           NaN                NaN  \n",
       "1           NaN                NaN  \n",
       "2           NaN                NaN  \n",
       "3           0.0               32.0  \n",
       "4           NaN                NaN  \n",
       "\n",
       "[5 rows x 30 columns]"
      ]
     },
     "execution_count": 52,
     "metadata": {},
     "output_type": "execute_result"
    }
   ],
   "source": [
    "df=pd.read_csv(\"/Users/fay./Desktop/untitled folder 2/DelayedFlights.csv\") \n",
    "df.head()"
   ]
  },
  {
   "cell_type": "code",
   "execution_count": 3,
   "id": "f8c642b3",
   "metadata": {},
   "outputs": [
    {
     "name": "stdout",
     "output_type": "stream",
     "text": [
      "<class 'pandas.core.frame.DataFrame'>\n",
      "RangeIndex: 1936758 entries, 0 to 1936757\n",
      "Data columns (total 30 columns):\n",
      " #   Column             Dtype  \n",
      "---  ------             -----  \n",
      " 0   Unnamed: 0         int64  \n",
      " 1   Year               int64  \n",
      " 2   Month              int64  \n",
      " 3   DayofMonth         int64  \n",
      " 4   DayOfWeek          int64  \n",
      " 5   DepTime            float64\n",
      " 6   CRSDepTime         int64  \n",
      " 7   ArrTime            float64\n",
      " 8   CRSArrTime         int64  \n",
      " 9   UniqueCarrier      object \n",
      " 10  FlightNum          int64  \n",
      " 11  TailNum            object \n",
      " 12  ActualElapsedTime  float64\n",
      " 13  CRSElapsedTime     float64\n",
      " 14  AirTime            float64\n",
      " 15  ArrDelay           float64\n",
      " 16  DepDelay           float64\n",
      " 17  Origin             object \n",
      " 18  Dest               object \n",
      " 19  Distance           int64  \n",
      " 20  TaxiIn             float64\n",
      " 21  TaxiOut            float64\n",
      " 22  Cancelled          int64  \n",
      " 23  CancellationCode   object \n",
      " 24  Diverted           int64  \n",
      " 25  CarrierDelay       float64\n",
      " 26  WeatherDelay       float64\n",
      " 27  NASDelay           float64\n",
      " 28  SecurityDelay      float64\n",
      " 29  LateAircraftDelay  float64\n",
      "dtypes: float64(14), int64(11), object(5)\n",
      "memory usage: 443.3+ MB\n"
     ]
    }
   ],
   "source": [
    "df.info()\n"
   ]
  },
  {
   "cell_type": "code",
   "execution_count": 4,
   "id": "0ce76053",
   "metadata": {},
   "outputs": [
    {
     "data": {
      "text/plain": [
       "Unnamed: 0                0\n",
       "Year                      0\n",
       "Month                     0\n",
       "DayofMonth                0\n",
       "DayOfWeek                 0\n",
       "DepTime                   0\n",
       "CRSDepTime                0\n",
       "ArrTime                7110\n",
       "CRSArrTime                0\n",
       "UniqueCarrier             0\n",
       "FlightNum                 0\n",
       "TailNum                   5\n",
       "ActualElapsedTime      8387\n",
       "CRSElapsedTime          198\n",
       "AirTime                8387\n",
       "ArrDelay               8387\n",
       "DepDelay                  0\n",
       "Origin                    0\n",
       "Dest                      0\n",
       "Distance                  0\n",
       "TaxiIn                 7110\n",
       "TaxiOut                 455\n",
       "Cancelled                 0\n",
       "CancellationCode          0\n",
       "Diverted                  0\n",
       "CarrierDelay         689270\n",
       "WeatherDelay         689270\n",
       "NASDelay             689270\n",
       "SecurityDelay        689270\n",
       "LateAircraftDelay    689270\n",
       "dtype: int64"
      ]
     },
     "execution_count": 4,
     "metadata": {},
     "output_type": "execute_result"
    }
   ],
   "source": [
    "df.isna().sum()\n"
   ]
  },
  {
   "cell_type": "markdown",
   "id": "274ef98f",
   "metadata": {},
   "source": [
    "There is a lot of null "
   ]
  },
  {
   "cell_type": "code",
   "execution_count": 5,
   "id": "9f2bcfce",
   "metadata": {},
   "outputs": [
    {
     "data": {
      "text/plain": [
       "(1936758, 30)"
      ]
     },
     "execution_count": 5,
     "metadata": {},
     "output_type": "execute_result"
    }
   ],
   "source": [
    "df.shape"
   ]
  },
  {
   "cell_type": "code",
   "execution_count": 6,
   "id": "6174256e",
   "metadata": {},
   "outputs": [
    {
     "data": {
      "text/plain": [
       "Index(['Unnamed: 0', 'Year', 'Month', 'DayofMonth', 'DayOfWeek', 'DepTime',\n",
       "       'CRSDepTime', 'ArrTime', 'CRSArrTime', 'UniqueCarrier', 'FlightNum',\n",
       "       'TailNum', 'ActualElapsedTime', 'CRSElapsedTime', 'AirTime', 'ArrDelay',\n",
       "       'DepDelay', 'Origin', 'Dest', 'Distance', 'TaxiIn', 'TaxiOut',\n",
       "       'Cancelled', 'CancellationCode', 'Diverted', 'CarrierDelay',\n",
       "       'WeatherDelay', 'NASDelay', 'SecurityDelay', 'LateAircraftDelay'],\n",
       "      dtype='object')"
      ]
     },
     "execution_count": 6,
     "metadata": {},
     "output_type": "execute_result"
    }
   ],
   "source": [
    "df.columns"
   ]
  },
  {
   "cell_type": "code",
   "execution_count": 7,
   "id": "50950f46",
   "metadata": {},
   "outputs": [],
   "source": [
    "df.dropna(inplace=True)"
   ]
  },
  {
   "cell_type": "code",
   "execution_count": 8,
   "id": "58f89768",
   "metadata": {},
   "outputs": [
    {
     "data": {
      "text/plain": [
       "Unnamed: 0           0\n",
       "Year                 0\n",
       "Month                0\n",
       "DayofMonth           0\n",
       "DayOfWeek            0\n",
       "DepTime              0\n",
       "CRSDepTime           0\n",
       "ArrTime              0\n",
       "CRSArrTime           0\n",
       "UniqueCarrier        0\n",
       "FlightNum            0\n",
       "TailNum              0\n",
       "ActualElapsedTime    0\n",
       "CRSElapsedTime       0\n",
       "AirTime              0\n",
       "ArrDelay             0\n",
       "DepDelay             0\n",
       "Origin               0\n",
       "Dest                 0\n",
       "Distance             0\n",
       "TaxiIn               0\n",
       "TaxiOut              0\n",
       "Cancelled            0\n",
       "CancellationCode     0\n",
       "Diverted             0\n",
       "CarrierDelay         0\n",
       "WeatherDelay         0\n",
       "NASDelay             0\n",
       "SecurityDelay        0\n",
       "LateAircraftDelay    0\n",
       "dtype: int64"
      ]
     },
     "execution_count": 8,
     "metadata": {},
     "output_type": "execute_result"
    }
   ],
   "source": [
    "df.isna().sum()\n",
    "\n"
   ]
  },
  {
   "cell_type": "markdown",
   "id": "1d4e87b1",
   "metadata": {},
   "source": [
    "No more null :)"
   ]
  },
  {
   "cell_type": "code",
   "execution_count": 9,
   "id": "f4e1a692",
   "metadata": {},
   "outputs": [
    {
     "data": {
      "text/plain": [
       "(1247486, 30)"
      ]
     },
     "execution_count": 9,
     "metadata": {},
     "output_type": "execute_result"
    }
   ],
   "source": [
    "df.shape\n"
   ]
  },
  {
   "cell_type": "code",
   "execution_count": 10,
   "id": "6c7b8db4",
   "metadata": {},
   "outputs": [],
   "source": [
    "df = df.drop(\"Unnamed: 0\",1) #Empty"
   ]
  },
  {
   "cell_type": "code",
   "execution_count": 11,
   "id": "97c7fafa",
   "metadata": {},
   "outputs": [
    {
     "data": {
      "text/plain": [
       "(1247486, 29)"
      ]
     },
     "execution_count": 11,
     "metadata": {},
     "output_type": "execute_result"
    }
   ],
   "source": [
    "df.shape"
   ]
  },
  {
   "cell_type": "markdown",
   "id": "1362b30d",
   "metadata": {},
   "source": [
    "Here will Dropping all duplicated Rows"
   ]
  },
  {
   "cell_type": "code",
   "execution_count": 12,
   "id": "173890bf",
   "metadata": {},
   "outputs": [
    {
     "data": {
      "text/plain": [
       "2"
      ]
     },
     "execution_count": 12,
     "metadata": {},
     "output_type": "execute_result"
    }
   ],
   "source": [
    "df.duplicated().sum()\n",
    "    "
   ]
  },
  {
   "cell_type": "code",
   "execution_count": 15,
   "id": "f80a0007",
   "metadata": {},
   "outputs": [],
   "source": [
    "df.drop_duplicates(inplace=True)"
   ]
  },
  {
   "cell_type": "code",
   "execution_count": 16,
   "id": "7b1cac76",
   "metadata": {},
   "outputs": [
    {
     "data": {
      "text/plain": [
       "0"
      ]
     },
     "execution_count": 16,
     "metadata": {},
     "output_type": "execute_result"
    }
   ],
   "source": [
    "df.duplicated().sum()\n",
    "    "
   ]
  },
  {
   "cell_type": "code",
   "execution_count": 49,
   "id": "66a09afc",
   "metadata": {},
   "outputs": [
    {
     "data": {
      "text/html": [
       "<div>\n",
       "<style scoped>\n",
       "    .dataframe tbody tr th:only-of-type {\n",
       "        vertical-align: middle;\n",
       "    }\n",
       "\n",
       "    .dataframe tbody tr th {\n",
       "        vertical-align: top;\n",
       "    }\n",
       "\n",
       "    .dataframe thead th {\n",
       "        text-align: right;\n",
       "    }\n",
       "</style>\n",
       "<table border=\"1\" class=\"dataframe\">\n",
       "  <thead>\n",
       "    <tr style=\"text-align: right;\">\n",
       "      <th></th>\n",
       "      <th>Year</th>\n",
       "      <th>Month</th>\n",
       "      <th>DayofMonth</th>\n",
       "      <th>DayOfWeek</th>\n",
       "      <th>DepTime</th>\n",
       "      <th>CRSDepTime</th>\n",
       "      <th>ArrTime</th>\n",
       "      <th>CRSArrTime</th>\n",
       "      <th>FlightNum</th>\n",
       "      <th>ActualElapsedTime</th>\n",
       "      <th>...</th>\n",
       "      <th>TaxiIn</th>\n",
       "      <th>TaxiOut</th>\n",
       "      <th>Cancelled</th>\n",
       "      <th>Diverted</th>\n",
       "      <th>CarrierDelay</th>\n",
       "      <th>WeatherDelay</th>\n",
       "      <th>NASDelay</th>\n",
       "      <th>SecurityDelay</th>\n",
       "      <th>LateAircraftDelay</th>\n",
       "      <th>Status</th>\n",
       "    </tr>\n",
       "  </thead>\n",
       "  <tbody>\n",
       "    <tr>\n",
       "      <th>count</th>\n",
       "      <td>1247484.0</td>\n",
       "      <td>1.247484e+06</td>\n",
       "      <td>1.247484e+06</td>\n",
       "      <td>1.247484e+06</td>\n",
       "      <td>1.247484e+06</td>\n",
       "      <td>1.247484e+06</td>\n",
       "      <td>1.247484e+06</td>\n",
       "      <td>1.247484e+06</td>\n",
       "      <td>1.247484e+06</td>\n",
       "      <td>1.247484e+06</td>\n",
       "      <td>...</td>\n",
       "      <td>1.247484e+06</td>\n",
       "      <td>1.247484e+06</td>\n",
       "      <td>1247484.0</td>\n",
       "      <td>1247484.0</td>\n",
       "      <td>1.247484e+06</td>\n",
       "      <td>1.247484e+06</td>\n",
       "      <td>1.247484e+06</td>\n",
       "      <td>1.247484e+06</td>\n",
       "      <td>1.247484e+06</td>\n",
       "      <td>1.247484e+06</td>\n",
       "    </tr>\n",
       "    <tr>\n",
       "      <th>mean</th>\n",
       "      <td>2008.0</td>\n",
       "      <td>6.065405e+00</td>\n",
       "      <td>1.572540e+01</td>\n",
       "      <td>3.980082e+00</td>\n",
       "      <td>1.558831e+03</td>\n",
       "      <td>1.487948e+03</td>\n",
       "      <td>1.616748e+03</td>\n",
       "      <td>1.652457e+03</td>\n",
       "      <td>2.276528e+03</td>\n",
       "      <td>1.353779e+02</td>\n",
       "      <td>...</td>\n",
       "      <td>7.297229e+00</td>\n",
       "      <td>2.066035e+01</td>\n",
       "      <td>0.0</td>\n",
       "      <td>0.0</td>\n",
       "      <td>1.917942e+01</td>\n",
       "      <td>3.703361e+00</td>\n",
       "      <td>1.502161e+01</td>\n",
       "      <td>9.013743e-02</td>\n",
       "      <td>2.529653e+01</td>\n",
       "      <td>1.358984e+00</td>\n",
       "    </tr>\n",
       "    <tr>\n",
       "      <th>std</th>\n",
       "      <td>0.0</td>\n",
       "      <td>3.508936e+00</td>\n",
       "      <td>8.793001e+00</td>\n",
       "      <td>1.993271e+00</td>\n",
       "      <td>4.543301e+02</td>\n",
       "      <td>4.211782e+02</td>\n",
       "      <td>5.839417e+02</td>\n",
       "      <td>4.617373e+02</td>\n",
       "      <td>1.997548e+03</td>\n",
       "      <td>7.229641e+01</td>\n",
       "      <td>...</td>\n",
       "      <td>6.033244e+00</td>\n",
       "      <td>1.667984e+01</td>\n",
       "      <td>0.0</td>\n",
       "      <td>0.0</td>\n",
       "      <td>4.354626e+01</td>\n",
       "      <td>2.149155e+01</td>\n",
       "      <td>3.383309e+01</td>\n",
       "      <td>2.022717e+00</td>\n",
       "      <td>4.205491e+01</td>\n",
       "      <td>4.797027e-01</td>\n",
       "    </tr>\n",
       "    <tr>\n",
       "      <th>min</th>\n",
       "      <td>2008.0</td>\n",
       "      <td>1.000000e+00</td>\n",
       "      <td>1.000000e+00</td>\n",
       "      <td>1.000000e+00</td>\n",
       "      <td>1.000000e+00</td>\n",
       "      <td>0.000000e+00</td>\n",
       "      <td>1.000000e+00</td>\n",
       "      <td>0.000000e+00</td>\n",
       "      <td>1.000000e+00</td>\n",
       "      <td>1.400000e+01</td>\n",
       "      <td>...</td>\n",
       "      <td>0.000000e+00</td>\n",
       "      <td>0.000000e+00</td>\n",
       "      <td>0.0</td>\n",
       "      <td>0.0</td>\n",
       "      <td>0.000000e+00</td>\n",
       "      <td>0.000000e+00</td>\n",
       "      <td>0.000000e+00</td>\n",
       "      <td>0.000000e+00</td>\n",
       "      <td>0.000000e+00</td>\n",
       "      <td>1.000000e+00</td>\n",
       "    </tr>\n",
       "    <tr>\n",
       "      <th>25%</th>\n",
       "      <td>2008.0</td>\n",
       "      <td>3.000000e+00</td>\n",
       "      <td>8.000000e+00</td>\n",
       "      <td>2.000000e+00</td>\n",
       "      <td>1.232000e+03</td>\n",
       "      <td>1.150000e+03</td>\n",
       "      <td>1.326000e+03</td>\n",
       "      <td>1.340000e+03</td>\n",
       "      <td>6.370000e+02</td>\n",
       "      <td>8.300000e+01</td>\n",
       "      <td>...</td>\n",
       "      <td>4.000000e+00</td>\n",
       "      <td>1.100000e+01</td>\n",
       "      <td>0.0</td>\n",
       "      <td>0.0</td>\n",
       "      <td>0.000000e+00</td>\n",
       "      <td>0.000000e+00</td>\n",
       "      <td>0.000000e+00</td>\n",
       "      <td>0.000000e+00</td>\n",
       "      <td>0.000000e+00</td>\n",
       "      <td>1.000000e+00</td>\n",
       "    </tr>\n",
       "    <tr>\n",
       "      <th>50%</th>\n",
       "      <td>2008.0</td>\n",
       "      <td>6.000000e+00</td>\n",
       "      <td>1.600000e+01</td>\n",
       "      <td>4.000000e+00</td>\n",
       "      <td>1.618000e+03</td>\n",
       "      <td>1.529000e+03</td>\n",
       "      <td>1.737000e+03</td>\n",
       "      <td>1.722000e+03</td>\n",
       "      <td>1.589000e+03</td>\n",
       "      <td>1.180000e+02</td>\n",
       "      <td>...</td>\n",
       "      <td>6.000000e+00</td>\n",
       "      <td>1.600000e+01</td>\n",
       "      <td>0.0</td>\n",
       "      <td>0.0</td>\n",
       "      <td>2.000000e+00</td>\n",
       "      <td>0.000000e+00</td>\n",
       "      <td>2.000000e+00</td>\n",
       "      <td>0.000000e+00</td>\n",
       "      <td>8.000000e+00</td>\n",
       "      <td>1.000000e+00</td>\n",
       "    </tr>\n",
       "    <tr>\n",
       "      <th>75%</th>\n",
       "      <td>2008.0</td>\n",
       "      <td>9.000000e+00</td>\n",
       "      <td>2.300000e+01</td>\n",
       "      <td>6.000000e+00</td>\n",
       "      <td>1.924000e+03</td>\n",
       "      <td>1.830000e+03</td>\n",
       "      <td>2.048000e+03</td>\n",
       "      <td>2.022000e+03</td>\n",
       "      <td>3.676000e+03</td>\n",
       "      <td>1.670000e+02</td>\n",
       "      <td>...</td>\n",
       "      <td>8.000000e+00</td>\n",
       "      <td>2.400000e+01</td>\n",
       "      <td>0.0</td>\n",
       "      <td>0.0</td>\n",
       "      <td>2.100000e+01</td>\n",
       "      <td>0.000000e+00</td>\n",
       "      <td>1.500000e+01</td>\n",
       "      <td>0.000000e+00</td>\n",
       "      <td>3.300000e+01</td>\n",
       "      <td>2.000000e+00</td>\n",
       "    </tr>\n",
       "    <tr>\n",
       "      <th>max</th>\n",
       "      <td>2008.0</td>\n",
       "      <td>1.200000e+01</td>\n",
       "      <td>3.100000e+01</td>\n",
       "      <td>7.000000e+00</td>\n",
       "      <td>2.400000e+03</td>\n",
       "      <td>2.359000e+03</td>\n",
       "      <td>2.400000e+03</td>\n",
       "      <td>2.359000e+03</td>\n",
       "      <td>9.741000e+03</td>\n",
       "      <td>1.114000e+03</td>\n",
       "      <td>...</td>\n",
       "      <td>2.400000e+02</td>\n",
       "      <td>4.220000e+02</td>\n",
       "      <td>0.0</td>\n",
       "      <td>0.0</td>\n",
       "      <td>2.436000e+03</td>\n",
       "      <td>1.352000e+03</td>\n",
       "      <td>1.357000e+03</td>\n",
       "      <td>3.920000e+02</td>\n",
       "      <td>1.316000e+03</td>\n",
       "      <td>2.000000e+00</td>\n",
       "    </tr>\n",
       "  </tbody>\n",
       "</table>\n",
       "<p>8 rows × 25 columns</p>\n",
       "</div>"
      ],
      "text/plain": [
       "            Year         Month    DayofMonth     DayOfWeek       DepTime  \\\n",
       "count  1247484.0  1.247484e+06  1.247484e+06  1.247484e+06  1.247484e+06   \n",
       "mean      2008.0  6.065405e+00  1.572540e+01  3.980082e+00  1.558831e+03   \n",
       "std          0.0  3.508936e+00  8.793001e+00  1.993271e+00  4.543301e+02   \n",
       "min       2008.0  1.000000e+00  1.000000e+00  1.000000e+00  1.000000e+00   \n",
       "25%       2008.0  3.000000e+00  8.000000e+00  2.000000e+00  1.232000e+03   \n",
       "50%       2008.0  6.000000e+00  1.600000e+01  4.000000e+00  1.618000e+03   \n",
       "75%       2008.0  9.000000e+00  2.300000e+01  6.000000e+00  1.924000e+03   \n",
       "max       2008.0  1.200000e+01  3.100000e+01  7.000000e+00  2.400000e+03   \n",
       "\n",
       "         CRSDepTime       ArrTime    CRSArrTime     FlightNum  \\\n",
       "count  1.247484e+06  1.247484e+06  1.247484e+06  1.247484e+06   \n",
       "mean   1.487948e+03  1.616748e+03  1.652457e+03  2.276528e+03   \n",
       "std    4.211782e+02  5.839417e+02  4.617373e+02  1.997548e+03   \n",
       "min    0.000000e+00  1.000000e+00  0.000000e+00  1.000000e+00   \n",
       "25%    1.150000e+03  1.326000e+03  1.340000e+03  6.370000e+02   \n",
       "50%    1.529000e+03  1.737000e+03  1.722000e+03  1.589000e+03   \n",
       "75%    1.830000e+03  2.048000e+03  2.022000e+03  3.676000e+03   \n",
       "max    2.359000e+03  2.400000e+03  2.359000e+03  9.741000e+03   \n",
       "\n",
       "       ActualElapsedTime  ...        TaxiIn       TaxiOut  Cancelled  \\\n",
       "count       1.247484e+06  ...  1.247484e+06  1.247484e+06  1247484.0   \n",
       "mean        1.353779e+02  ...  7.297229e+00  2.066035e+01        0.0   \n",
       "std         7.229641e+01  ...  6.033244e+00  1.667984e+01        0.0   \n",
       "min         1.400000e+01  ...  0.000000e+00  0.000000e+00        0.0   \n",
       "25%         8.300000e+01  ...  4.000000e+00  1.100000e+01        0.0   \n",
       "50%         1.180000e+02  ...  6.000000e+00  1.600000e+01        0.0   \n",
       "75%         1.670000e+02  ...  8.000000e+00  2.400000e+01        0.0   \n",
       "max         1.114000e+03  ...  2.400000e+02  4.220000e+02        0.0   \n",
       "\n",
       "        Diverted  CarrierDelay  WeatherDelay      NASDelay  SecurityDelay  \\\n",
       "count  1247484.0  1.247484e+06  1.247484e+06  1.247484e+06   1.247484e+06   \n",
       "mean         0.0  1.917942e+01  3.703361e+00  1.502161e+01   9.013743e-02   \n",
       "std          0.0  4.354626e+01  2.149155e+01  3.383309e+01   2.022717e+00   \n",
       "min          0.0  0.000000e+00  0.000000e+00  0.000000e+00   0.000000e+00   \n",
       "25%          0.0  0.000000e+00  0.000000e+00  0.000000e+00   0.000000e+00   \n",
       "50%          0.0  2.000000e+00  0.000000e+00  2.000000e+00   0.000000e+00   \n",
       "75%          0.0  2.100000e+01  0.000000e+00  1.500000e+01   0.000000e+00   \n",
       "max          0.0  2.436000e+03  1.352000e+03  1.357000e+03   3.920000e+02   \n",
       "\n",
       "       LateAircraftDelay        Status  \n",
       "count       1.247484e+06  1.247484e+06  \n",
       "mean        2.529653e+01  1.358984e+00  \n",
       "std         4.205491e+01  4.797027e-01  \n",
       "min         0.000000e+00  1.000000e+00  \n",
       "25%         0.000000e+00  1.000000e+00  \n",
       "50%         8.000000e+00  1.000000e+00  \n",
       "75%         3.300000e+01  2.000000e+00  \n",
       "max         1.316000e+03  2.000000e+00  \n",
       "\n",
       "[8 rows x 25 columns]"
      ]
     },
     "execution_count": 49,
     "metadata": {},
     "output_type": "execute_result"
    }
   ],
   "source": [
    "df.describe()"
   ]
  },
  {
   "cell_type": "code",
   "execution_count": 54,
   "id": "c5613a45",
   "metadata": {},
   "outputs": [],
   "source": [
    "\n",
    "#Status represents wether the flight was on time (0), slightly delayed (1), highly delayed (2)\n",
    "for dataset in df:\n",
    "    df.loc[df['ArrDelay'] < 15, 'Status'] = 0  #if the delay  less than 15 minthat means flight was on time\n",
    "    df.loc[df['ArrDelay'] >= 15, 'Status'] = 1 #if the delay  equal or more than 15 min its a slightly delayed\n",
    "    df.loc[df['ArrDelay'] >= 60, 'Status'] = 2 #if the delay equal or more than 60 min its a highly delayed\n",
    " \n",
    "    \n"
   ]
  },
  {
   "cell_type": "code",
   "execution_count": 31,
   "id": "9b7b27c6",
   "metadata": {},
   "outputs": [
    {
     "data": {
      "text/plain": [
       "WN    203559\n",
       "AA    132257\n",
       "MQ     97555\n",
       "UA     95465\n",
       "OO     88991\n",
       "DL     72252\n",
       "XE     72008\n",
       "US     59508\n",
       "CO     58958\n",
       "EV     56781\n",
       "NW     54744\n",
       "YV     50646\n",
       "FL     46991\n",
       "OH     39292\n",
       "B6     38232\n",
       "9E     35630\n",
       "AS     24012\n",
       "F9     15938\n",
       "HA      4325\n",
       "AQ       340\n",
       "Name: UniqueCarrier, dtype: int64"
      ]
     },
     "execution_count": 31,
     "metadata": {},
     "output_type": "execute_result"
    }
   ],
   "source": [
    "df['UniqueCarrier'].value_counts()"
   ]
  },
  {
   "cell_type": "markdown",
   "id": "8be1115e",
   "metadata": {},
   "source": [
    "- **Carrier names** \n",
    "- **WN**:    Southwest Airlines\n",
    "- **AA**:     American Airlines\n",
    "- **MQ**:    American Eagle Airlines\n",
    "- **UA**:     United Airlines\n",
    "- **OO**:     Skywest Airlines\n",
    "- **DL**:     Delta Airlines\n",
    "- **XE**:     ExpressJet\n",
    "- **CO**:     Continental Airlines\n",
    "- **US**:     US Airways\n",
    "- **EV**:     Atlantic Southeast Airlines\n",
    "- **NW**:     Northwest Airlines\n",
    "- **FL**:     AirTran Airways\n",
    "- **YV**:     Mesa Airlines\n",
    "- **B6**:     JetBlue Airways\n",
    "- **OH**:     Comair\n",
    "- **9E**:     Pinnacle Airlines\n",
    "- **AS**:     Alaska Airlines\n",
    "- **F9**:     Frontier Airlines\n",
    "- **HA**:     Hawaiian Airlines\n",
    "- **AQ**:     Aloha Airlines\n"
   ]
  },
  {
   "cell_type": "code",
   "execution_count": 55,
   "id": "83de6337",
   "metadata": {},
   "outputs": [],
   "source": [
    "Delayedflights = df[(df.Status >= 1) &(df.Status < 3)]"
   ]
  },
  {
   "cell_type": "code",
   "execution_count": 56,
   "id": "9b723114",
   "metadata": {
    "scrolled": true
   },
   "outputs": [
    {
     "name": "stderr",
     "output_type": "stream",
     "text": [
      "/Users/fay./opt/anaconda3/lib/python3.8/site-packages/seaborn/_decorators.py:36: FutureWarning: Pass the following variables as keyword args: x, y. From version 0.12, the only valid positional argument will be `data`, and passing other arguments without an explicit keyword will result in an error or misinterpretation.\n",
      "  warnings.warn(\n"
     ]
    },
    {
     "data": {
      "image/png": "[encoded data removed]",
      "text/plain": [
       "<Figure size 432x288 with 1 Axes>"
      ]
     },
     "metadata": {
      "needs_background": "light"
     },
     "output_type": "display_data"
    }
   ],
   "source": [
    "ax=sns.barplot('UniqueCarrier','CarrierDelay', data=Delayedflights, order=['WN', 'AA', 'MQ', 'UA','OO','DL','XE','CO',\n",
    "                                                                                'US','EV', 'NW','FL','YV', 'B6','OH','9E',\n",
    "                                                                                 'AS','F9','HA','AQ'])\n",
    "ax.set_title('Average Delay by Carrier');"
   ]
  },
  {
   "cell_type": "markdown",
   "id": "62351bbb",
   "metadata": {},
   "source": [
    "Carriers with higher average delay generation are **Mesa Airlines (YV)** with 37 minutes per flight, **Hawaian Airlines (HA)** with 33 minutes per flight and **ExpressJet (EV)** with 29 minutes per flight\n",
    "\n",
    "**Mesa Airlines** registered the maximum Carrier Delay for 2008.\n"
   ]
  },
  {
   "cell_type": "code",
   "execution_count": 57,
   "id": "da6fa424",
   "metadata": {
    "scrolled": true
   },
   "outputs": [
    {
     "name": "stderr",
     "output_type": "stream",
     "text": [
      "/Users/fay./opt/anaconda3/lib/python3.8/site-packages/seaborn/_decorators.py:36: FutureWarning: Pass the following variables as keyword args: x, y. From version 0.12, the only valid positional argument will be `data`, and passing other arguments without an explicit keyword will result in an error or misinterpretation.\n",
      "  warnings.warn(\n"
     ]
    },
    {
     "data": {
      "image/png": "[encoded data removed]",
      "text/plain": [
       "<Figure size 432x288 with 1 Axes>"
      ]
     },
     "metadata": {
      "needs_background": "light"
     },
     "output_type": "display_data"
    }
   ],
   "source": [
    "ax=sns.barplot('UniqueCarrier','WeatherDelay', data=Delayedflights, order=['WN', 'AA', 'MQ', 'UA','OO','DL','XE','CO',\n",
    "                                                                                'US','EV', 'NW','FL','YV', 'B6','OH','9E',\n",
    "                                                                                 'AS','F9','HA','AQ'])\n",
    "ax.set_title('Average Delay by Weather');"
   ]
  },
  {
   "cell_type": "markdown",
   "id": "2d6b6005",
   "metadata": {},
   "source": [
    "Carriers with higher average delay by Weather generation are **Comair (OH)** , **Atlantic Southeast Airlines\n",
    " (EV)** \n",
    "\n",
    "**Comair** registered the maximum Carrier Delay by Weather for 2008."
   ]
  },
  {
   "cell_type": "code",
   "execution_count": 61,
   "id": "046c6f6d",
   "metadata": {},
   "outputs": [
    {
     "name": "stderr",
     "output_type": "stream",
     "text": [
      "/Users/fay./opt/anaconda3/lib/python3.8/site-packages/seaborn/_decorators.py:36: FutureWarning: Pass the following variables as keyword args: x, y. From version 0.12, the only valid positional argument will be `data`, and passing other arguments without an explicit keyword will result in an error or misinterpretation.\n",
      "  warnings.warn(\n"
     ]
    },
    {
     "data": {
      "image/png": "[encoded data removed]",
      "text/plain": [
       "<Figure size 432x288 with 1 Axes>"
      ]
     },
     "metadata": {
      "needs_background": "light"
     },
     "output_type": "display_data"
    }
   ],
   "source": [
    "ax=sns.barplot('UniqueCarrier','SecurityDelay', data=Delayedflights, order=['WN', 'AA', 'MQ', 'UA','OO','DL','XE','CO',\n",
    "                                                                                'US','EV', 'NW','FL','YV', 'B6','OH','9E',\n",
    "                                                                                 'AS','F9','HA','AQ'])\n",
    "ax.set_title('Average Delay by Security');"
   ]
  },
  {
   "cell_type": "markdown",
   "id": "d970083c",
   "metadata": {},
   "source": [
    "Carriers with higher average delay by Security generation are **Alaska Airlines (AS)** , **Aloha Airlines\n",
    " (AQ)** \n",
    "\n",
    "**Alaska Airlines** registered the maximum Carrier Delay by Securityfor 2008."
   ]
  },
  {
   "cell_type": "code",
   "execution_count": 38,
   "id": "50e68921",
   "metadata": {},
   "outputs": [
    {
     "data": {
      "text/plain": [
       "0    1247484\n",
       "Name: Cancelled, dtype: int64"
      ]
     },
     "execution_count": 38,
     "metadata": {},
     "output_type": "execute_result"
    }
   ],
   "source": [
    "df.Cancelled.value_counts()"
   ]
  },
  {
   "cell_type": "code",
   "execution_count": 39,
   "id": "28617101",
   "metadata": {},
   "outputs": [
    {
     "data": {
      "text/plain": [
       "N    1247484\n",
       "Name: CancellationCode, dtype: int64"
      ]
     },
     "execution_count": 39,
     "metadata": {},
     "output_type": "execute_result"
    }
   ],
   "source": [
    "df.CancellationCode.value_counts()"
   ]
  },
  {
   "cell_type": "code",
   "execution_count": 59,
   "id": "f05b728f",
   "metadata": {},
   "outputs": [
    {
     "data": {
      "text/plain": [
       "0    1929004\n",
       "1       7754\n",
       "Name: Diverted, dtype: int64"
      ]
     },
     "execution_count": 59,
     "metadata": {},
     "output_type": "execute_result"
    }
   ],
   "source": [
    "df.Diverted.value_counts()"
   ]
  },
  {
   "cell_type": "markdown",
   "id": "e81382f1",
   "metadata": {},
   "source": [
    "There are no Cancelled  and Diverted Flight in the dataset "
   ]
  },
  {
   "cell_type": "code",
   "execution_count": null,
   "id": "71665c01",
   "metadata": {},
   "outputs": [],
   "source": []
  }
 ],
 "metadata": {
  "kernelspec": {
   "display_name": "Python 3",
   "language": "python",
   "name": "python3"
  },
  "language_info": {
   "codemirror_mode": {
    "name": "ipython",
    "version": 3
   },
   "file_extension": ".py",
   "mimetype": "text/x-python",
   "name": "python",
   "nbconvert_exporter": "python",
   "pygments_lexer": "ipython3",
   "version": "3.8.8"
  }
 },
 "nbformat": 4,
 "nbformat_minor": 5
}
